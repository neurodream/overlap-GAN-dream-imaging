{
 "cells": [
  {
   "cell_type": "code",
   "execution_count": 14,
   "metadata": {},
   "outputs": [],
   "source": [
    "from moviepy.editor import VideoFileClip, vfx, ImageSequenceClip\n",
    "from tqdm import tqdm\n",
    "import numpy as np\n",
    "import matplotlib.pyplot as plt\n",
    "import random"
   ]
  },
  {
   "cell_type": "code",
   "execution_count": 51,
   "metadata": {},
   "outputs": [
    {
     "name": "stdout",
     "output_type": "stream",
     "text": [
      "Moviepy - Building video test_video2.mp4.\n",
      "MoviePy - Writing audio in test_video2TEMP_MPY_wvf_snd.mp3\n"
     ]
    },
    {
     "name": "stderr",
     "output_type": "stream",
     "text": [
      "                                                                    \r"
     ]
    },
    {
     "name": "stdout",
     "output_type": "stream",
     "text": [
      "MoviePy - Done.\n",
      "Moviepy - Writing video test_video2.mp4\n",
      "\n"
     ]
    },
    {
     "name": "stderr",
     "output_type": "stream",
     "text": [
      "                                                                \r"
     ]
    },
    {
     "name": "stdout",
     "output_type": "stream",
     "text": [
      "Moviepy - Done !\n",
      "Moviepy - video ready test_video2.mp4\n"
     ]
    }
   ],
   "source": [
    "def convert_to_30fps(input_video_path, output_video_path):\n",
    "    video = VideoFileClip(input_video_path)\n",
    "    # new_video = video.set_fps(30)\n",
    "    video.write_videofile(output_video_path, fps=30.0, codec='libx264')\n",
    "\n",
    "def rotate_to_landscape(input_video_path, output_video_path, degrees=90):\n",
    "    video = VideoFileClip(input_video_path)\n",
    "    # Check if the video is in portrait mode (height > width)\n",
    "    if video.size[1] > video.size[0]:\n",
    "        # Rotate if in portrait\n",
    "        rotated_video = video.rotate(degrees)\n",
    "        rotated_video.write_videofile(output_video_path, codec='libx264')\n",
    "    else:\n",
    "        # No need to rotate\n",
    "        print(\"Video is already in landscape mode\")\n",
    "        video.write_videofile(output_video_path, codec='libx264')\n",
    "\n",
    "# Example usage:\n",
    "convert_to_30fps('C:/Users/a/Videos/Music/20200826_193357.mp4', 'test_video2.mp4')\n",
    "# rotate_to_landscape('test_video1.mp4', 'test_video1.mp4')"
   ]
  },
  {
   "cell_type": "code",
   "execution_count": 56,
   "metadata": {},
   "outputs": [
    {
     "name": "stdout",
     "output_type": "stream",
     "text": [
      "Moviepy - Building video cropped_test_video2.mp4.\n",
      "MoviePy - Writing audio in cropped_test_video2TEMP_MPY_wvf_snd.mp3\n"
     ]
    },
    {
     "name": "stderr",
     "output_type": "stream",
     "text": [
      "                                                                  \r"
     ]
    },
    {
     "name": "stdout",
     "output_type": "stream",
     "text": [
      "MoviePy - Done.\n",
      "Moviepy - Writing video cropped_test_video2.mp4\n",
      "\n"
     ]
    },
    {
     "name": "stderr",
     "output_type": "stream",
     "text": [
      "                                                              \r"
     ]
    },
    {
     "name": "stdout",
     "output_type": "stream",
     "text": [
      "Moviepy - Done !\n",
      "Moviepy - video ready cropped_test_video2.mp4\n"
     ]
    }
   ],
   "source": [
    "def crop_video(input_video_path, output_video_path, start_time, duration=5):\n",
    "    video = VideoFileClip(input_video_path)\n",
    "    # Calculate end time based on start time and duration\n",
    "    end_time = start_time + duration\n",
    "    # Create the subclip\n",
    "    cropped_video = video.subclip(start_time, end_time)\n",
    "    cropped_video.write_videofile(output_video_path, codec='libx264', fps=video.fps)\n",
    "\n",
    "# Example usage:\n",
    "crop_video('test_video2.mp4', 'cropped_test_video2.mp4', start_time=5)  # Start at 10 seconds"
   ]
  },
  {
   "cell_type": "code",
   "execution_count": 57,
   "metadata": {},
   "outputs": [
    {
     "name": "stdout",
     "output_type": "stream",
     "text": [
      "Moviepy - Building video greyscale_cropped_test_video2.mp4.\n",
      "MoviePy - Writing audio in greyscale_cropped_test_video2TEMP_MPY_wvf_snd.mp3\n"
     ]
    },
    {
     "name": "stderr",
     "output_type": "stream",
     "text": [
      "                                                                  \r"
     ]
    },
    {
     "name": "stdout",
     "output_type": "stream",
     "text": [
      "MoviePy - Done.\n",
      "Moviepy - Writing video greyscale_cropped_test_video2.mp4\n",
      "\n"
     ]
    },
    {
     "name": "stderr",
     "output_type": "stream",
     "text": [
      "                                                              \r"
     ]
    },
    {
     "name": "stdout",
     "output_type": "stream",
     "text": [
      "Moviepy - Done !\n",
      "Moviepy - video ready greyscale_cropped_test_video2.mp4\n"
     ]
    }
   ],
   "source": [
    "def convert_to_grayscale(input_video_path, output_video_path):\n",
    "    video = VideoFileClip(input_video_path)\n",
    "    # Apply the black and white effect\n",
    "    grayscale_video = video.fx(vfx.blackwhite)\n",
    "    # Write the resulting video to file\n",
    "    grayscale_video.write_videofile(output_video_path, codec='libx264', fps=video.fps)\n",
    "\n",
    "# Example usage:\n",
    "convert_to_grayscale('cropped_test_video2.mp4', 'greyscale_cropped_test_video2.mp4')"
   ]
  },
  {
   "cell_type": "code",
   "execution_count": 54,
   "metadata": {},
   "outputs": [
    {
     "data": {
      "text/plain": [
       "(2560, 1440)"
      ]
     },
     "execution_count": 54,
     "metadata": {},
     "output_type": "execute_result"
    }
   ],
   "source": [
    "video = VideoFileClip(\"greyscale_cropped_test_video1.mp4\")\n",
    "video.size[0], video.size[1]"
   ]
  },
  {
   "cell_type": "code",
   "execution_count": 61,
   "metadata": {},
   "outputs": [],
   "source": [
    "def average_circle_pixels(input_video_path, center, radius, fps=30, progressbar=True):\n",
    "    video = VideoFileClip(input_video_path)\n",
    "    frames = list(video.iter_frames(fps=fps, dtype='uint8'))\n",
    "    height, width = frames[0].shape[:2]\n",
    "\n",
    "    # Check if the circle is within the video's boundaries\n",
    "    x, y = center\n",
    "    if not (radius <= x <= width - radius and radius <= y <= height - radius):\n",
    "        raise ValueError(\"Circle is out of the video's boundaries.\")\n",
    "\n",
    "    # Prepare to extract pixels\n",
    "    avg_values = []\n",
    "    xx, yy = np.meshgrid(np.arange(width), np.arange(height))\n",
    "    mask = (xx - x)**2 + (yy - y)**2 <= radius**2\n",
    "\n",
    "    # Process each frame\n",
    "    if progressbar:\n",
    "        for frame in tqdm(frames, desc=\"Processing frames\"):\n",
    "            gray_frame = np.dot(frame[...,:3], [0.2989, 0.5870, 0.1140])  # Convert to grayscale\n",
    "            circle_pixels = gray_frame[mask]\n",
    "            avg_values.append(np.mean(circle_pixels))\n",
    "    else:\n",
    "        for frame in frames:\n",
    "            gray_frame = np.dot(frame[...,:3], [0.2989, 0.5870, 0.1140])  # Convert to grayscale\n",
    "            circle_pixels = gray_frame[mask]\n",
    "            avg_values.append(np.mean(circle_pixels))\n",
    "\n",
    "    return avg_values"
   ]
  },
  {
   "cell_type": "code",
   "execution_count": null,
   "metadata": {},
   "outputs": [],
   "source": [
    "# Example usage:\n",
    "center = (1000, 1000)  # x, y coordinates of the circle's center\n",
    "radius = 100  # radius of the circle in pixels\n",
    "average_values = average_circle_pixels('greyscale_cropped_test_video1.mp4', center, radius)\n",
    "\n",
    "plt.figure()\n",
    "plt.plot(average_values)\n",
    "plt.show()"
   ]
  },
  {
   "cell_type": "code",
   "execution_count": 15,
   "metadata": {},
   "outputs": [
    {
     "name": "stderr",
     "output_type": "stream",
     "text": [
      "t:  20%|█▉        | 198/1000 [21:01<00:48, 16.47it/s, now=None]"
     ]
    },
    {
     "name": "stdout",
     "output_type": "stream",
     "text": [
      "Moviepy - Building video circletest_greyscale_cropped_test_video1.mp4.\n",
      "Moviepy - Writing video circletest_greyscale_cropped_test_video1.mp4\n",
      "\n"
     ]
    },
    {
     "name": "stderr",
     "output_type": "stream",
     "text": [
      "t:  20%|█▉        | 198/1000 [21:02<00:48, 16.47it/s, now=None]"
     ]
    },
    {
     "name": "stdout",
     "output_type": "stream",
     "text": [
      "Moviepy - Done !\n",
      "Moviepy - video ready circletest_greyscale_cropped_test_video1.mp4\n"
     ]
    }
   ],
   "source": [
    "def reconstruct_video_with_circle(input_video_path, center, radius, grayscale_values, output_video_path, fps=30):\n",
    "    video = VideoFileClip(input_video_path)\n",
    "    frames = list(video.iter_frames(fps=fps, dtype='uint8'))\n",
    "    height, width = frames[0].shape[:2]\n",
    "\n",
    "    # Initialize an empty array for the new frames\n",
    "    new_frames = []\n",
    "\n",
    "    # Create the mask for the circle\n",
    "    xx, yy = np.meshgrid(np.arange(width), np.arange(height))\n",
    "    mask = (xx - center[0])**2 + (yy - center[1])**2 <= radius**2\n",
    "\n",
    "    # Construct each frame\n",
    "    for value in grayscale_values:\n",
    "        frame = np.zeros((height, width), dtype=np.uint8)\n",
    "        frame[mask] = value\n",
    "        new_frames.append(np.stack([frame, frame, frame], axis=-1))  # Convert single channel to three-channel grayscale\n",
    "\n",
    "    # Create a video clip from these frames\n",
    "    clip = ImageSequenceClip(new_frames, fps=fps)\n",
    "    clip.write_videofile(output_video_path, codec='libx264')\n",
    "\n",
    "# Example usage:\n",
    "center = (150, 150)  # x, y coordinates of the circle's center\n",
    "radius = 50  # radius of the circle in pixels\n",
    "# Assume grayscale_values is a list of average grayscale values for each frame\n",
    "reconstruct_video_with_circle('greyscale_cropped_test_video1.mp4', center, radius, average_values, 'reconstructed_greyscale_cropped_test_video1.mp4')"
   ]
  },
  {
   "cell_type": "code",
   "execution_count": 16,
   "metadata": {},
   "outputs": [],
   "source": [
    "# circle: dict with fields center, radius, grayscale_values\n",
    "# circles: list of multiple circle"
   ]
  },
  {
   "cell_type": "code",
   "execution_count": 49,
   "metadata": {},
   "outputs": [],
   "source": [
    "def reconstruct_video_with_circles(input_video_path, circles, output_video_path, fps=30):\n",
    "    video = VideoFileClip(input_video_path)\n",
    "    height, width = video.size\n",
    "    num_frames = int(video.duration * fps)\n",
    "\n",
    "    # Initialize an empty array for the new frames\n",
    "    new_frames = [np.zeros((height, width, 3), dtype=np.uint8) for _ in range(num_frames)]\n",
    "\n",
    "    # Process each circle\n",
    "    for circle in tqdm(circles):\n",
    "        center, radius, grayscale_values = circle[\"center\"], circle[\"radius\"], circle[\"grayscale_values\"]\n",
    "        # Create the mask for the circle\n",
    "        xx, yy = np.meshgrid(np.arange(width), np.arange(height))\n",
    "        mask = (xx - center[0])**2 + (yy - center[1])**2 <= radius**2\n",
    "\n",
    "        # Apply the grayscale values to the specified region in each frame\n",
    "        for i in range(num_frames):\n",
    "            value = grayscale_values[i]\n",
    "            new_frames[i][mask] = np.array([value, value, value], dtype=np.uint8)\n",
    "\n",
    "    # Create a video clip from these frames\n",
    "    clip = ImageSequenceClip(new_frames, fps=fps)\n",
    "    clip.write_videofile(output_video_path, codec='libx264')"
   ]
  },
  {
   "cell_type": "code",
   "execution_count": 63,
   "metadata": {},
   "outputs": [
    {
     "name": "stderr",
     "output_type": "stream",
     "text": [
      "Processing:   7%|▋         | 2/30 [00:48<11:21, 24.33s/it]\n",
      "Processing:  13%|█▎        | 4/30 [01:03<06:53, 15.90s/it]"
     ]
    },
    {
     "name": "stdout",
     "output_type": "stream",
     "text": [
      "here\n"
     ]
    },
    {
     "name": "stderr",
     "output_type": "stream",
     "text": [
      "Processing:  17%|█▋        | 5/30 [01:22<07:09, 17.18s/it]"
     ]
    },
    {
     "name": "stdout",
     "output_type": "stream",
     "text": [
      "here\n"
     ]
    },
    {
     "name": "stderr",
     "output_type": "stream",
     "text": [
      "Processing:  40%|████      | 12/30 [03:16<04:46, 15.92s/it]"
     ]
    },
    {
     "name": "stdout",
     "output_type": "stream",
     "text": [
      "here\n"
     ]
    },
    {
     "name": "stderr",
     "output_type": "stream",
     "text": [
      "Processing:  47%|████▋     | 14/30 [03:51<04:23, 16.47s/it]"
     ]
    },
    {
     "name": "stdout",
     "output_type": "stream",
     "text": [
      "here\n"
     ]
    },
    {
     "name": "stderr",
     "output_type": "stream",
     "text": [
      "Processing:  60%|██████    | 18/30 [04:58<03:17, 16.45s/it]"
     ]
    },
    {
     "name": "stdout",
     "output_type": "stream",
     "text": [
      "here\n"
     ]
    },
    {
     "name": "stderr",
     "output_type": "stream",
     "text": [
      "Processing:  63%|██████▎   | 19/30 [05:17<03:10, 17.34s/it]"
     ]
    },
    {
     "name": "stdout",
     "output_type": "stream",
     "text": [
      "here\n",
      "here\n"
     ]
    },
    {
     "name": "stderr",
     "output_type": "stream",
     "text": [
      "Processing:  70%|███████   | 21/30 [05:55<02:41, 17.99s/it]"
     ]
    },
    {
     "name": "stdout",
     "output_type": "stream",
     "text": [
      "here\n"
     ]
    },
    {
     "name": "stderr",
     "output_type": "stream",
     "text": [
      "Processing: 100%|██████████| 30/30 [08:24<00:00, 16.28s/it]"
     ]
    }
   ],
   "source": [
    "circles = []\n",
    "\n",
    "input_vid_path = 'greyscale_cropped_test_video2.mp4'\n",
    "radius = 100\n",
    "output_vid_path = 'reconstructed_greyscale_cropped_test_video2.mp4'\n",
    "n_circles = 30\n",
    "\n",
    "pbar = tqdm(total=n_circles, desc=\"Processing\")\n",
    "\n",
    "# get some circles\n",
    "while len(circles) < 30:\n",
    "    x = random.random()*video.size[0]\n",
    "    y = random.random()*video.size[1]\n",
    "    try:\n",
    "        grayscale_values = average_circle_pixels(input_vid_path, [x, y], radius, progressbar=False)\n",
    "        circle = {\n",
    "            \"center\": [x, y], \n",
    "            \"radius\": radius, \n",
    "            \"grayscale_values\": grayscale_values\n",
    "            }\n",
    "        circles.append(circle)\n",
    "        pbar.update(1)\n",
    "    except ValueError:\n",
    "        continue"
   ]
  },
  {
   "cell_type": "code",
   "execution_count": 64,
   "metadata": {},
   "outputs": [
    {
     "name": "stderr",
     "output_type": "stream",
     "text": [
      "100%|██████████| 30/30 [00:24<00:00,  1.22it/s]\n",
      "Processing: 100%|██████████| 30/30 [20:25<00:00, 16.28s/it]"
     ]
    },
    {
     "name": "stdout",
     "output_type": "stream",
     "text": [
      "Moviepy - Building video reconstructed_greyscale_cropped_test_video2.mp4.\n",
      "Moviepy - Writing video reconstructed_greyscale_cropped_test_video2.mp4\n",
      "\n"
     ]
    },
    {
     "name": "stderr",
     "output_type": "stream",
     "text": [
      "Processing: 100%|██████████| 30/30 [20:28<00:00, 16.28s/it]"
     ]
    },
    {
     "name": "stdout",
     "output_type": "stream",
     "text": [
      "Moviepy - Done !\n",
      "Moviepy - video ready reconstructed_greyscale_cropped_test_video2.mp4\n"
     ]
    }
   ],
   "source": [
    "reconstruct_video_with_circles(input_vid_path, circles, output_vid_path)"
   ]
  },
  {
   "cell_type": "code",
   "execution_count": 35,
   "metadata": {},
   "outputs": [
    {
     "data": {
      "text/plain": [
       "[{'center': [1842.7112154724846, 703.7844018159929],\n",
       "  'radius': 100,\n",
       "  'grayscale_values': [38.807208428557786,\n",
       "   39.57690577712704,\n",
       "   39.9865792914664,\n",
       "   41.735202832861184,\n",
       "   44.85180236814463,\n",
       "   45.381940010185566,\n",
       "   46.618789925836325,\n",
       "   48.50127664321864,\n",
       "   50.512056860935154,\n",
       "   50.81612932488779,\n",
       "   51.55132651112455,\n",
       "   52.16739629181654,\n",
       "   54.719358022726546,\n",
       "   53.77569583346595,\n",
       "   55.99411355953782,\n",
       "   56.97768645319413,\n",
       "   58.374497453607916,\n",
       "   61.73966365661902,\n",
       "   61.03737529681383,\n",
       "   61.62594679313747,\n",
       "   63.5695726358341,\n",
       "   68.48508192698222,\n",
       "   69.61467580290926,\n",
       "   69.63001628099438,\n",
       "   67.1668510933571,\n",
       "   66.58566339561385,\n",
       "   69.27260223764205,\n",
       "   67.14508161823215,\n",
       "   62.25242391062164,\n",
       "   57.95088383677626,\n",
       "   54.80570390871184,\n",
       "   52.93944881751917,\n",
       "   50.01591015373842,\n",
       "   50.92768197154406,\n",
       "   51.64683849189928,\n",
       "   53.023980580577394,\n",
       "   54.22839907056689,\n",
       "   53.06350936435687,\n",
       "   51.01294574911672,\n",
       "   49.711487595887576,\n",
       "   48.43501341630327,\n",
       "   48.188579138682876,\n",
       "   46.34212026609797,\n",
       "   42.50404086004392,\n",
       "   41.384472400292836,\n",
       "   41.479570633733324,\n",
       "   40.91827463475189,\n",
       "   40.873176175319095,\n",
       "   40.437022831587996,\n",
       "   39.03722011968043,\n",
       "   38.2221060444982,\n",
       "   38.154410615271985,\n",
       "   38.13604659897508,\n",
       "   37.54585194003246,\n",
       "   36.94349947480663,\n",
       "   36.76641561574944,\n",
       "   36.75387588884998,\n",
       "   36.88681609001496,\n",
       "   36.555563608874174,\n",
       "   36.80514873157845,\n",
       "   36.80514873157845,\n",
       "   36.80514873157845,\n",
       "   36.80514873157845]}]"
      ]
     },
     "execution_count": 35,
     "metadata": {},
     "output_type": "execute_result"
    }
   ],
   "source": [
    "circles"
   ]
  },
  {
   "cell_type": "code",
   "execution_count": null,
   "metadata": {},
   "outputs": [],
   "source": []
  }
 ],
 "metadata": {
  "kernelspec": {
   "display_name": "base",
   "language": "python",
   "name": "python3"
  },
  "language_info": {
   "codemirror_mode": {
    "name": "ipython",
    "version": 3
   },
   "file_extension": ".py",
   "mimetype": "text/x-python",
   "name": "python",
   "nbconvert_exporter": "python",
   "pygments_lexer": "ipython3",
   "version": "3.12.2"
  }
 },
 "nbformat": 4,
 "nbformat_minor": 2
}
